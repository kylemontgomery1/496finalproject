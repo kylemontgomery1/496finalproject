{
 "cells": [
  {
   "cell_type": "code",
   "execution_count": 1,
   "metadata": {},
   "outputs": [],
   "source": [
    "#some imports\n",
    "import pandas as pd\n",
    "from sklearn.model_selection import train_test_split, GridSearchCV\n",
    "from sklearn.preprocessing import StandardScaler\n",
    "from sklearn.svm import SVC\n",
    "from sklearn.linear_model import LogisticRegression"
   ]
  },
  {
   "cell_type": "code",
   "execution_count": 2,
   "metadata": {},
   "outputs": [],
   "source": [
    "data = pd.read_csv('./kylemontgomery/Raisin_Dataset.csv').to_numpy()\n",
    "\n",
    "X = data[:, :-1]\n",
    "y = data[:, -1]\n",
    "\n",
    "# encoding the target column\n",
    "y[y=='Kecimen'] = 1\n",
    "y[y=='Besni'] = -1\n",
    "y = y.astype('int')"
   ]
  },
  {
   "cell_type": "code",
   "execution_count": 3,
   "metadata": {},
   "outputs": [],
   "source": [
    "# split into training and test set\n",
    "X_train, X_test, y_train, y_test = train_test_split(X, y, random_state=33, stratify=y, test_size=0.2)"
   ]
  },
  {
   "cell_type": "code",
   "execution_count": 4,
   "metadata": {},
   "outputs": [],
   "source": [
    "# scaling the data\n",
    "scaler = StandardScaler()\n",
    "X_train = scaler.fit_transform(X_train)\n",
    "X_test = scaler.transform(X_test)"
   ]
  },
  {
   "cell_type": "code",
   "execution_count": 5,
   "metadata": {},
   "outputs": [
    {
     "name": "stdout",
     "output_type": "stream",
     "text": [
      "Fitting 5 folds for each of 7 candidates, totalling 35 fits\n"
     ]
    },
    {
     "name": "stderr",
     "output_type": "stream",
     "text": [
      "[Parallel(n_jobs=-1)]: Using backend LokyBackend with 128 concurrent workers.\n",
      "[Parallel(n_jobs=-1)]: Done   5 out of  35 | elapsed:   13.0s remaining:  1.3min\n",
      "[Parallel(n_jobs=-1)]: Done  14 out of  35 | elapsed:   13.3s remaining:   20.0s\n",
      "[Parallel(n_jobs=-1)]: Done  23 out of  35 | elapsed:   13.4s remaining:    7.0s\n",
      "[Parallel(n_jobs=-1)]: Done  32 out of  35 | elapsed:   13.5s remaining:    1.3s\n",
      "[Parallel(n_jobs=-1)]: Done  35 out of  35 | elapsed:   13.5s finished\n"
     ]
    },
    {
     "name": "stdout",
     "output_type": "stream",
     "text": [
      "Best parameters:  {'C': 3}\n",
      "Best cross-validation score: 0.875\n",
      "Test set score:  0.85\n"
     ]
    }
   ],
   "source": [
    "# fit svc with linear kernel\n",
    "svc = SVC(kernel='linear')\n",
    "params = {'C': [0.001, 0.01, 0.1, 0.7, 1, 2, 3]}\n",
    "search = GridSearchCV(svc, param_grid=params, cv=5, n_jobs=-1, verbose=4)\n",
    "search.fit(X_train, y_train)\n",
    "\n",
    "print('Best parameters: ', search.best_params_)\n",
    "print('Best cross-validation score:', search.best_score_)\n",
    "print('Test set score: ', search.score(X_test, y_test))"
   ]
  },
  {
   "cell_type": "code",
   "execution_count": 6,
   "metadata": {},
   "outputs": [
    {
     "name": "stdout",
     "output_type": "stream",
     "text": [
      "Fitting 5 folds for each of 168 candidates, totalling 840 fits\n"
     ]
    },
    {
     "name": "stderr",
     "output_type": "stream",
     "text": [
      "[Parallel(n_jobs=-1)]: Using backend LokyBackend with 128 concurrent workers.\n",
      "[Parallel(n_jobs=-1)]: Done 136 tasks      | elapsed:    0.3s\n",
      "[Parallel(n_jobs=-1)]: Done 585 out of 840 | elapsed:    0.7s remaining:    0.3s\n",
      "[Parallel(n_jobs=-1)]: Done 796 out of 840 | elapsed:    8.7s remaining:    0.5s\n"
     ]
    },
    {
     "name": "stdout",
     "output_type": "stream",
     "text": [
      "Best parameters:  {'C': 0.7, 'coef0': 1, 'degree': 3, 'gamma': 0.1}\n",
      "Best cross-validation score: 0.8763888888888889\n",
      "Test set score:  0.8444444444444444\n"
     ]
    },
    {
     "name": "stderr",
     "output_type": "stream",
     "text": [
      "[Parallel(n_jobs=-1)]: Done 840 out of 840 | elapsed:    8.9s finished\n"
     ]
    }
   ],
   "source": [
    "#fit svc with polynomial kernel\n",
    "svc = SVC(kernel='poly')\n",
    "params = {'C': [0.001, 0.01, 0.1, 0.7, 1, 2, 3], 'degree': [2, 3, 4], 'gamma': [0.01, 0.1, 1, 'scale'], 'coef0': [0, 1]}\n",
    "search = GridSearchCV(svc, param_grid=params, cv=5, n_jobs=-1, verbose=4)\n",
    "search.fit(X_train, y_train)\n",
    "\n",
    "print('Best parameters: ', search.best_params_)\n",
    "print('Best cross-validation score:', search.best_score_)\n",
    "print('Test set score: ', search.score(X_test, y_test))"
   ]
  },
  {
   "cell_type": "code",
   "execution_count": 7,
   "metadata": {},
   "outputs": [
    {
     "name": "stderr",
     "output_type": "stream",
     "text": [
      "[Parallel(n_jobs=-1)]: Using backend LokyBackend with 128 concurrent workers.\n",
      "[Parallel(n_jobs=-1)]: Done  29 out of 140 | elapsed:    0.1s remaining:    0.3s\n",
      "[Parallel(n_jobs=-1)]: Done  65 out of 140 | elapsed:    0.1s remaining:    0.1s\n",
      "[Parallel(n_jobs=-1)]: Done 101 out of 140 | elapsed:    0.2s remaining:    0.1s\n"
     ]
    },
    {
     "name": "stdout",
     "output_type": "stream",
     "text": [
      "Fitting 5 folds for each of 28 candidates, totalling 140 fits\n",
      "Best parameters:  {'C': 0.1, 'gamma': 0.1}\n",
      "Best cross-validation score: 0.875\n",
      "Test set score:  0.8611111111111112\n"
     ]
    },
    {
     "name": "stderr",
     "output_type": "stream",
     "text": [
      "[Parallel(n_jobs=-1)]: Done 137 out of 140 | elapsed:    0.2s remaining:    0.0s\n",
      "[Parallel(n_jobs=-1)]: Done 140 out of 140 | elapsed:    0.2s finished\n"
     ]
    }
   ],
   "source": [
    "#fit svc with rbf kernel\n",
    "svc = SVC(kernel='rbf')\n",
    "params = {'C': [0.001, 0.01, 0.1, 0.7, 1, 2, 3], 'gamma': [0.01, 0.1, 1, 'scale']}\n",
    "search = GridSearchCV(svc, param_grid=params, cv=5, n_jobs=-1, verbose=4)\n",
    "search.fit(X_train, y_train)\n",
    "\n",
    "print('Best parameters: ', search.best_params_)\n",
    "print('Best cross-validation score:', search.best_score_)\n",
    "print('Test set score: ', search.score(X_test, y_test))"
   ]
  },
  {
   "cell_type": "code",
   "execution_count": 8,
   "metadata": {},
   "outputs": [
    {
     "name": "stdout",
     "output_type": "stream",
     "text": [
      "Fitting 5 folds for each of 7 candidates, totalling 35 fits\n",
      "Best parameters:  {'C': 3}\n",
      "Best cross-validation score: 0.8680555555555557\n",
      "Test set score:  0.8388888888888889\n"
     ]
    },
    {
     "name": "stderr",
     "output_type": "stream",
     "text": [
      "[Parallel(n_jobs=-1)]: Using backend LokyBackend with 128 concurrent workers.\n",
      "[Parallel(n_jobs=-1)]: Done   5 out of  35 | elapsed:    0.0s remaining:    0.1s\n",
      "[Parallel(n_jobs=-1)]: Done  14 out of  35 | elapsed:    0.0s remaining:    0.0s\n",
      "[Parallel(n_jobs=-1)]: Done  23 out of  35 | elapsed:    0.0s remaining:    0.0s\n",
      "[Parallel(n_jobs=-1)]: Done  32 out of  35 | elapsed:    0.0s remaining:    0.0s\n",
      "[Parallel(n_jobs=-1)]: Done  35 out of  35 | elapsed:    0.0s finished\n"
     ]
    }
   ],
   "source": [
    "#fit logistic regression\n",
    "lr = LogisticRegression()\n",
    "params = {'C': [0.001, 0.01, 0.1, 0.7, 1, 2, 3]}\n",
    "search = GridSearchCV(lr, param_grid=params, cv=5, n_jobs=-1, verbose=4)\n",
    "search.fit(X_train, y_train)\n",
    "\n",
    "print('Best parameters: ', search.best_params_)\n",
    "print('Best cross-validation score:', search.best_score_)\n",
    "print('Test set score: ', search.score(X_test, y_test))"
   ]
  }
 ],
 "metadata": {
  "kernelspec": {
   "display_name": "Python 3 (ipykernel)",
   "language": "python",
   "name": "python3"
  },
  "language_info": {
   "codemirror_mode": {
    "name": "ipython",
    "version": 3
   },
   "file_extension": ".py",
   "mimetype": "text/x-python",
   "name": "python",
   "nbconvert_exporter": "python",
   "pygments_lexer": "ipython3",
   "version": "3.7.7"
  }
 },
 "nbformat": 4,
 "nbformat_minor": 5
}
